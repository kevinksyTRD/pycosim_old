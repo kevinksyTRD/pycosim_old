{
 "cells": [
  {
   "cell_type": "markdown",
   "metadata": {
    "pycharm": {
     "name": "#%% md\n"
    }
   },
   "source": [
    "# Selection of a Proper Time Step\n",
    "## System description - OSP Quarter Truck Simulation\n",
    "The system is illustrated in the figure below.\n",
    "\n",
    "![System Model](system_model.PNG)\n",
    "\n",
    "## Loading FMU\n",
    "First, we will create FMU instances. Note that interfaces from OSP-IS such as a LinearMechanicalPort\n",
    "will be created because there are XXX_OspModelDescription.xml files in the same folder as the\n",
    "fmus."
   ]
  },
  {
   "cell_type": "code",
   "execution_count": 9,
   "metadata": {
    "pycharm": {
     "name": "#%% Create FMU Instances\n"
    }
   },
   "outputs": [
    {
     "name": "stdout",
     "output_type": "stream",
     "text": [
      "---------------\n",
      "chassis\n",
      "  inputs: ['p.f']\n",
      "  outputs: ['p.e', 'zChassis']\n",
      "  variable_groups: ['linear mechanical port']\n",
      "  parameters: ['C.mChassis', 'C.kChassis', 'I1.mChassis', 'R.dChassis', 'Se1.mChassis', 'C.zDeltaInit', 'I1.moment_initial', 'I1.zChassisInit']\n",
      "  others: ['C.p.e', 'OneJunction2.flow', 'OneJunction2.p1.e', 'OneJunction2.p2.e', 'OneJunction2.p3.e', 'OneJunction2.p1.f', 'OneJunction2.p2.f', 'OneJunction2.p3.f', 'OneJunction5.flow', 'OneJunction5.p1.e', 'OneJunction5.p2.e', 'OneJunction5.p3.e', 'OneJunction5.p1.f', 'OneJunction5.p2.f', 'OneJunction5.p3.f', 'QSensor.p1.e', 'QSensor.p2.e', 'QSensor.p2.f', 'R.p.e', 'R.p.f', 'Se1.p.e', 'Se1.p.f', 'Se1.flow', 'ZeroJunction6.effort', 'ZeroJunction6.p1.e', 'ZeroJunction6.p2.e', 'ZeroJunction6.p3.e', 'ZeroJunction6.p1.f', 'ZeroJunction6.p2.f', 'ZeroJunction6.p3.f', 'C.p.f', 'C.zDelta', 'I1.p.e', 'I1.moment', 'I1.p.f', 'I1.zChassis', 'QSensor.p1.f', 'QSensor.q']\n",
      "---------------\n",
      "wheel\n",
      "  inputs: ['p.f', 'p1.e']\n",
      "  outputs: ['p.e', 'p1.f', 'zWheel']\n",
      "  variable_groups: ['chassis port', 'ground port']\n",
      "  parameters: ['C.mWheel', 'C.mChassis', 'C.kWheel', 'I.mWheel', 'R.dWheel', 'Se.mWheel', 'C.zDeltaInit', 'I.moment_initial', 'I.zWheelInit']\n",
      "  others: ['C.p.e', 'OneJunction.flow', 'OneJunction.p1.e', 'OneJunction.p2.e', 'OneJunction.p3.e', 'OneJunction.p4.e', 'OneJunction.p1.f', 'OneJunction.p2.f', 'OneJunction.p3.f', 'OneJunction.p4.f', 'OneJunction4.flow', 'OneJunction4.p1.e', 'OneJunction4.p2.e', 'OneJunction4.p3.e', 'OneJunction4.p1.f', 'OneJunction4.p2.f', 'OneJunction4.p3.f', 'QSensor1.p1.e', 'QSensor1.p2.e', 'QSensor1.p2.f', 'R.p.e', 'R.p.f', 'Se.p.e', 'Se.p.f', 'Se.flow', 'ZeroJunction5.effort', 'ZeroJunction5.p1.e', 'ZeroJunction5.p2.e', 'ZeroJunction5.p3.e', 'ZeroJunction5.p1.f', 'ZeroJunction5.p2.f', 'ZeroJunction5.p3.f', 'C.p.f', 'C.zDelta', 'I.p.e', 'I.moment', 'I.p.f', 'I.zWheel', 'QSensor1.p1.f', 'QSensor1.q']\n",
      "---------------\n",
      "ground\n",
      "  inputs: ['p.e']\n",
      "  outputs: ['p.f', 'zGround']\n",
      "  variable_groups: ['linear mechanical port']\n",
      "  parameters: ['Derivative.fh', 'Step.amplitude', 'Step.start_time', 'Derivative.initial']\n",
      "  others: ['Derivative.input', 'Derivative.output', 'MSf.p.e', 'MSf.p.f', 'MSf.flow', 'MSf.effort', 'Splitter1.input', 'Splitter1.output1', 'Splitter1.output2', 'Step.output', 'Derivative.rate_int']\n"
     ]
    }
   ],
   "source": [
    "import os\n",
    "from pyOSPParser.system_configuration import OspVariableEndpoint\n",
    "from pycosim.osp_command_line_interface import LoggingLevel, SimulationError\n",
    "from pycosim.simulation import FMU, SimulationConfiguration\n",
    "import matplotlib.pyplot as plt\n",
    "\n",
    "PATH_TO_DIR = os.getcwd()\n",
    "\n",
    "PATH_TO_CHASSIS = os.path.join(PATH_TO_DIR, '..', 'fmus', 'osp_truck_simulation', 'chassis.fmu')\n",
    "PATH_TO_WHEEL = os.path.join(PATH_TO_DIR, '..', 'fmus', 'osp_truck_simulation', 'wheel.fmu')\n",
    "PATH_TO_GROUND = os.path.join(PATH_TO_DIR, '..', 'fmus', 'osp_truck_simulation', 'ground.fmu')\n",
    "\n",
    "chassis_fmu = FMU(PATH_TO_CHASSIS)\n",
    "wheel_fmu = FMU(PATH_TO_WHEEL)\n",
    "ground_fmu = FMU(PATH_TO_GROUND)\n",
    "\n",
    "# Inspecting the FMUs\n",
    "for fmu in [chassis_fmu, wheel_fmu, ground_fmu]:\n",
    "    print('---------------')\n",
    "    print(fmu.name)\n",
    "    print(f'  inputs: {fmu.get_input_names()}')\n",
    "    print(f'  outputs: {fmu.get_output_names()}')\n",
    "    print(f'  variable_groups: {fmu.get_variable_group_names()}')\n",
    "    print(f'  parameters: {fmu.get_parameter_names()}')\n",
    "    print(f'  others: {fmu.get_other_variable_names()}')"
   ]
  },
  {
   "cell_type": "markdown",
   "metadata": {
    "pycharm": {
     "name": "#%% md\n"
    }
   },
   "source": [
    "### Create a simulation setup and configuring the system"
   ]
  },
  {
   "cell_type": "code",
   "execution_count": 10,
   "metadata": {
    "pycharm": {
     "name": "#%%\n"
    }
   },
   "outputs": [
    {
     "data": {
      "text/plain": "InitialValues(component='wheel', variable='R.dWheel', value=0)"
     },
     "execution_count": 10,
     "metadata": {},
     "output_type": "execute_result"
    }
   ],
   "source": [
    "# Create a simulation setup with a empty system inside\n",
    "sim_config = SimulationConfiguration()\n",
    "\n",
    "# Add components to the system\n",
    "sim_config.add_component(name='chassis', fmu=chassis_fmu)\n",
    "sim_config.add_component(name='wheel', fmu=wheel_fmu)\n",
    "sim_config.add_component(name='ground', fmu=ground_fmu)\n",
    "\n",
    "# Add connections between components\n",
    "sim_config.add_connection(\n",
    "    source=OspVariableEndpoint(simulator='chassis', name='linear mechanical port'),\n",
    "    target=OspVariableEndpoint(simulator='wheel', name='chassis port'),\n",
    "    group=True\n",
    ")\n",
    "sim_config.add_connection(\n",
    "    source=OspVariableEndpoint(simulator='wheel', name='ground port'),\n",
    "    target=OspVariableEndpoint(simulator='ground', name='linear mechanical port'),\n",
    "    group=True\n",
    ")\n",
    "\n",
    "# Set parameters as initial value setting\n",
    "sim_config.add_update_initial_value(\n",
    "    component_name='chassis', variable='C.mChassis', value=400, type_value=float\n",
    ")\n",
    "sim_config.add_update_initial_value(\n",
    "    component_name='chassis', variable='C.kChassis', value=15000, type_value=float\n",
    ")\n",
    "sim_config.add_update_initial_value(\n",
    "    component_name='chassis', variable='R.dChassis', value=1000, type_value=float\n",
    ")\n",
    "sim_config.add_update_initial_value(\n",
    "    component_name='wheel', variable='C.mWheel', value=40, type_value=float\n",
    ")\n",
    "sim_config.add_update_initial_value(\n",
    "    component_name='wheel', variable='C.kWheel', value=150000, type_value=float\n",
    ")\n",
    "sim_config.add_update_initial_value(\n",
    "    component_name='wheel', variable='R.dWheel', value=0, type_value=float\n",
    ")"
   ]
  },
  {
   "cell_type": "markdown",
   "metadata": {
    "pycharm": {
     "name": "#%% md\n"
    }
   },
   "source": [
    "## Run simulation and show the result\n",
    "Now we can set the logging configuration and run simulation. We will run simulation\n",
    "for three different global time steps: 0.01, 0.001, and 0.0001 seconds to see how error can be\n",
    "reduced with proper selection of a time step."
   ]
  },
  {
   "cell_type": "code",
   "execution_count": 11,
   "metadata": {
    "pycharm": {
     "name": "#%%\n"
    }
   },
   "outputs": [
    {
     "data": {
      "text/plain": "True"
     },
     "execution_count": 11,
     "metadata": {},
     "output_type": "execute_result"
    }
   ],
   "source": [
    "# Set logging configuratoin\n",
    "sim_config.add_logging_variable(component_name='chassis', variable_name='zChassis')\n",
    "sim_config.add_logging_variable(component_name='wheel', variable_name='zWheel')\n",
    "sim_config.add_logging_variable(component_name='ground', variable_name='zGround')"
   ]
  },
  {
   "cell_type": "code",
   "execution_count": 12,
   "metadata": {
    "pycharm": {
     "name": "#%%\n"
    }
   },
   "outputs": [
    {
     "name": "stdout",
     "output_type": "stream",
     "text": [
      "Deploying the logging configuration.\n",
      "Output csv files will be saved in the following directory: C:\\Users\\keviny\\AppData\\Local\\Temp\\pycosim_tmp\\sim_fc7811ac-ab6f-49b9-ba96-a8e7b3d501df\\.\n",
      "Simulation will run until 10.000000 seconds.\n",
      "Running simulation.\n",
      "info: Using cache directory: \"C:\\Users\\keviny\\AppData\\Local\\cosim\"\r\n",
      "info: [FMI Library: FMILIB] Loading 'win64' binary with 'default' platform types\r\n",
      "info: [FMI Library: FMILIB] Loading 'win64' binary with 'default' platform types\r\n",
      "info: [FMI Library: FMILIB] Loading 'win64' binary with 'default' platform types\r\n",
      "info: Logging variable: chassis:zChassis\r\n",
      "info: Logging variable: wheel:zWheel\r\n",
      "info: Logging variable: ground:zGround\r\n",
      "info: 10% complete, t=1.000000\r\n",
      "info: 20% complete, t=2.000000\r\n",
      "info: 30% complete, t=3.000000\r\n",
      "info: 40% complete, t=4.000000\r\n",
      "info: 50% complete, t=5.000000\r\n",
      "info: 60% complete, t=6.000000\r\n",
      "info: 70% complete, t=7.000000\r\n",
      "info: 80% complete, t=8.000000\r\n",
      "info: 90% complete, t=9.000000\r\n",
      "info: 100% complete, t=10.000000\r\n",
      "\n",
      "\n"
     ]
    }
   ],
   "source": [
    "# Run simulation\n",
    "sim_config.set_base_step_size(0.01)\n",
    "output = sim_config.run_simulation(\n",
    "    duration=10, logging_level=LoggingLevel.info\n",
    ")\n",
    "result_0_01 = output.result\n",
    "if len(output.error) > 0:\n",
    "    raise SimulationError(f'An error or errors occurred during the simulation: {output.error}')\n",
    "print(output.log)"
   ]
  },
  {
   "cell_type": "markdown",
   "source": [
    "Now we set the time step 0.001 second. We will also set the decimation factor for logging 10 to\n",
    "reduce the data size of logged outputs."
   ],
   "metadata": {
    "collapsed": false,
    "pycharm": {
     "name": "#%% md\n"
    }
   }
  },
  {
   "cell_type": "code",
   "execution_count": 13,
   "outputs": [
    {
     "name": "stdout",
     "output_type": "stream",
     "text": [
      "Deploying the logging configuration.\n",
      "Output csv files will be saved in the following directory: C:\\Users\\keviny\\AppData\\Local\\Temp\\pycosim_tmp\\sim_c6d6ec72-3513-4b19-a31a-402d838d56fb\\.\n",
      "Simulation will run until 10.000000 seconds.\n",
      "Running simulation.\n",
      "info: Using cache directory: \"C:\\Users\\keviny\\AppData\\Local\\cosim\"\r\n",
      "info: [FMI Library: FMILIB] Loading 'win64' binary with 'default' platform types\r\n",
      "info: [FMI Library: FMILIB] Loading 'win64' binary with 'default' platform types\r\n",
      "info: [FMI Library: FMILIB] Loading 'win64' binary with 'default' platform types\r\n",
      "info: Logging variable: chassis:zChassis\r\n",
      "info: Logging variable: wheel:zWheel\r\n",
      "info: Logging variable: ground:zGround\r\n",
      "info: 10% complete, t=1.000000\r\n",
      "info: 20% complete, t=2.000000\r\n",
      "info: 30% complete, t=3.000000\r\n",
      "info: 40% complete, t=4.000000\r\n",
      "info: 50% complete, t=5.000000\r\n",
      "info: 60% complete, t=6.000000\r\n",
      "info: 70% complete, t=7.000000\r\n",
      "info: 80% complete, t=8.000000\r\n",
      "info: 90% complete, t=9.000000\r\n",
      "info: 100% complete, t=10.000000\r\n",
      "\n",
      "\n"
     ]
    }
   ],
   "source": [
    "# Set decimation factor\n",
    "sim_config.set_decimation_factor(component_name='chassis', decimation_factor=10)\n",
    "sim_config.set_decimation_factor(component_name='wheel', decimation_factor=10)\n",
    "sim_config.set_decimation_factor(component_name='ground', decimation_factor=10)\n",
    "\n",
    "# Run simulation\n",
    "sim_config.set_base_step_size(0.001)\n",
    "output = sim_config.run_simulation(\n",
    "    duration=10, logging_level=LoggingLevel.info\n",
    ")\n",
    "result_0_001 = output.result\n",
    "if len(output.error) > 0:\n",
    "    raise SimulationError(f'An error or errors occurred during the simulation: {output.error}')\n",
    "print(output.log)"
   ],
   "metadata": {
    "collapsed": false,
    "pycharm": {
     "name": "#%%\n"
    }
   }
  },
  {
   "cell_type": "markdown",
   "source": [
    "Now we set the time step 0.0001 second. We will also set the decimation factor for logging 100 to\n",
    "reduce the data size of logged outputs."
   ],
   "metadata": {
    "collapsed": false
   }
  },
  {
   "cell_type": "code",
   "execution_count": 14,
   "outputs": [
    {
     "name": "stdout",
     "output_type": "stream",
     "text": [
      "Deploying the logging configuration.\n",
      "Output csv files will be saved in the following directory: C:\\Users\\keviny\\AppData\\Local\\Temp\\pycosim_tmp\\sim_efd4e15c-f209-4e0d-8782-17d29e82c036\\.\n",
      "Simulation will run until 10.000000 seconds.\n",
      "Running simulation.\n",
      "info: Using cache directory: \"C:\\Users\\keviny\\AppData\\Local\\cosim\"\r\n",
      "info: [FMI Library: FMILIB] Loading 'win64' binary with 'default' platform types\r\n",
      "info: [FMI Library: FMILIB] Loading 'win64' binary with 'default' platform types\r\n",
      "info: [FMI Library: FMILIB] Loading 'win64' binary with 'default' platform types\r\n",
      "info: Logging variable: chassis:zChassis\r\n",
      "info: Logging variable: wheel:zWheel\r\n",
      "info: Logging variable: ground:zGround\r\n",
      "info: 10% complete, t=1.000000\r\n",
      "info: 20% complete, t=2.000000\r\n",
      "info: 30% complete, t=3.000000\r\n",
      "info: 40% complete, t=4.000000\r\n",
      "info: 50% complete, t=5.000000\r\n",
      "info: 60% complete, t=6.000000\r\n",
      "info: 70% complete, t=7.000000\r\n",
      "info: 80% complete, t=8.000000\r\n",
      "info: 90% complete, t=9.000000\r\n",
      "info: 100% complete, t=10.000000\r\n",
      "\n",
      "\n"
     ]
    }
   ],
   "source": [
    "# Set decimation factor\n",
    "sim_config.set_decimation_factor(component_name='chassis', decimation_factor=100)\n",
    "sim_config.set_decimation_factor(component_name='wheel', decimation_factor=100)\n",
    "sim_config.set_decimation_factor(component_name='ground', decimation_factor=100)\n",
    "\n",
    "# Run simulation\n",
    "sim_config.set_base_step_size(0.0001)\n",
    "output = sim_config.run_simulation(\n",
    "    duration=10, logging_level=LoggingLevel.info\n",
    ")\n",
    "result_0_0001 = output.result\n",
    "if len(output.error) > 0:\n",
    "    raise SimulationError(f'An error or errors occurred during the simulation: {output.error}')\n",
    "print(output.log)"
   ],
   "metadata": {
    "collapsed": false,
    "pycharm": {
     "name": "#%%\n"
    }
   }
  },
  {
   "cell_type": "markdown",
   "source": [
    "##Result"
   ],
   "metadata": {
    "collapsed": false,
    "pycharm": {
     "name": "#%% md\n"
    }
   }
  },
  {
   "cell_type": "code",
   "execution_count": 15,
   "outputs": [
    {
     "data": {
      "text/plain": "<Figure size 864x576 with 1 Axes>",
      "image/png": "[encoded data removed]"
     },
     "metadata": {
      "needs_background": "light"
     },
     "output_type": "display_data"
    }
   ],
   "source": [
    "# Plot result\n",
    "fig, ax = plt.subplots()\n",
    "for comp_name in ['chassis', 'wheel', 'ground']:\n",
    "    result_0_01[comp_name].drop(['StepCount'], axis=1).plot(x='Time', ax=ax, figsize=(12,8))\n",
    "    result_0_001[comp_name].drop(['StepCount'], axis=1).plot(x='Time', ax=ax, figsize=(12, 8))\n",
    "    result_0_0001[comp_name].drop(['StepCount'], axis=1).plot(x='Time', ax=ax, figsize=(12, 8))\n",
    "plt.show()"
   ],
   "metadata": {
    "collapsed": false,
    "pycharm": {
     "name": "#%%\n"
    }
   }
  },
  {
   "cell_type": "code",
   "execution_count": 16,
   "outputs": [
    {
     "name": "stdout",
     "output_type": "stream",
     "text": [
      "Final position of \n",
      " - zChassis(0.01): 1.13319\n",
      " - zChassis(0.001): 1.10209\n",
      " - zChassis(0.0001): 1.1002100000000001\n",
      " - zWheel(0.01): 0.633274\n",
      " - zWheel(0.001): 0.6020949999999999\n",
      " - zWheel(0.0001): 0.60021\n"
     ]
    }
   ],
   "source": [
    "print('Final position of ')\n",
    "print(f' - zChassis(0.01): {result_0_01[\"chassis\"][\"zChassis\"].values[-1]}')\n",
    "print(f' - zChassis(0.001): {result_0_001[\"chassis\"][\"zChassis\"].values[-1]}')\n",
    "print(f' - zChassis(0.0001): {result_0_0001[\"chassis\"][\"zChassis\"].values[-1]}')\n",
    "print(f' - zWheel(0.01): {result_0_01[\"wheel\"][\"zWheel\"].values[-1]}')\n",
    "print(f' - zWheel(0.001): {result_0_001[\"wheel\"][\"zWheel\"].values[-1]}')\n",
    "print(f' - zWheel(0.0001): {result_0_0001[\"wheel\"][\"zWheel\"].values[-1]}')"
   ],
   "metadata": {
    "collapsed": false,
    "pycharm": {
     "name": "#%%\n"
    }
   }
  },
  {
   "cell_type": "markdown",
   "source": [
    "## Conclusion\n",
    "We see that time step of 0.01 second introduced a noticeable error.\n",
    "The bias error for of the final displacement change is approximately 33%, whereas time step\n",
    "of 0.01 second resulted in 2% error. Depending on application, the time step should be\n",
    "chosen between 0.001 second and 0.0001 second."
   ],
   "metadata": {
    "collapsed": false,
    "pycharm": {
     "name": "#%% md\n"
    }
   }
  }
 ],
 "metadata": {
  "kernelspec": {
   "display_name": "Python 3",
   "language": "python",
   "name": "python3"
  },
  "language_info": {
   "codemirror_mode": {
    "name": "ipython",
    "version": 3
   },
   "file_extension": ".py",
   "mimetype": "text/x-python",
   "name": "python",
   "nbconvert_exporter": "python",
   "pygments_lexer": "ipython3",
   "version": "3.7.4"
  }
 },
 "nbformat": 4,
 "nbformat_minor": 1
}